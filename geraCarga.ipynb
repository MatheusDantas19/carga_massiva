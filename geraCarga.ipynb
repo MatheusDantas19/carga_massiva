{
 "cells": [
  {
   "cell_type": "code",
   "execution_count": 1,
   "metadata": {},
   "outputs": [],
   "source": [
    "import pandas as pd\n",
    "import numpy as np\n",
    "import random"
   ]
  },
  {
   "cell_type": "code",
   "execution_count": 3,
   "metadata": {},
   "outputs": [],
   "source": [
    "def geraCargaMassiva():\n",
    "    \n",
    "    try: \n",
    "        rel = pd.read_csv('teste.csv', encoding='latin-1')\n",
    "        \n",
    "    except IOError as e:\n",
    "        print(\"Erro ao ler o arquivo csv\")\n",
    "        \n",
    "        return 0\n",
    "    \n",
    "    \n",
    "\n",
    "    rel.iloc[: , 2] = rel.iloc[: , 2].replace('F', 'Feminino')\n",
    "    rel.iloc[: , 2] = rel.iloc[: , 2].replace('M', 'Masculino')\n",
    "\n",
    "    carga = pd.DataFrame(columns=['Identificador', 'Primeiro Nome', 'Sobrenome', 'Usuario', 'Data de Nascimento', 'Gênero',\n",
    "                                  'Email', 'Tipo de usuário', 'Grau', 'Turma', 'Organização', 'Senha', \n",
    "                                  'Desativado', 'Motivo'])\n",
    "\n",
    "\n",
    "    carga['Primeiro Nome'] = rel.iloc[: , 0].apply(lambda x: x.split(' ')[0].capitalize())\n",
    "    carga['Sobrenome'] = rel.iloc[: , 0].apply(lambda x: x.split(' ')[-1].capitalize())\n",
    "    carga['Usuario'] = rel.iloc[: , 0].apply(lambda x: x.split(' ')[0].lower() + str(random.randint(1,99)))\n",
    "\n",
    "    carga['Data de Nascimento'] = rel.iloc[: , 1].apply(lambda x: x.replace('/', '-'))\n",
    "    carga['Gênero'] = rel.iloc[: , 2]\n",
    "\n",
    "    carga['Tipo de usuário'] = 'Estudantes'\n",
    "    carga['Grau'] = rel.iloc[: , 4]\n",
    "    carga['Turma'] = rel.iloc[: , 3]\n",
    "\n",
    "    carga['Senha'] = 1\n",
    "    carga['Identificador'] = 0\n",
    "\n",
    "    carga.fillna('')\n",
    "    \n",
    "    \n",
    "geraCargaMassiva()"
   ]
  },
  {
   "cell_type": "code",
   "execution_count": 86,
   "metadata": {},
   "outputs": [
    {
     "name": "stderr",
     "output_type": "stream",
     "text": [
      "<ipython-input-86-08ccaa0184ad>:31: SettingWithCopyWarning: \n",
      "A value is trying to be set on a copy of a slice from a DataFrame\n",
      "\n",
      "See the caveats in the documentation: https://pandas.pydata.org/pandas-docs/stable/user_guide/indexing.html#returning-a-view-versus-a-copy\n",
      "  carga['Gênero'][i] = banco['Sexo'][j]\n"
     ]
    }
   ],
   "source": [
    "def geraCargaMassivaGenero():\n",
    "\n",
    "    rel = pd.read_csv('./teste.csv', encoding='latin-1')\n",
    "\n",
    "    banco = pd.read_csv('./banco.csv', encoding='Latin-1')\n",
    "\n",
    "    carga = pd.DataFrame(columns=['Identificador', 'Primeiro Nome', 'Sobrenome', 'Usuario', 'Data de Nascimento', 'Gênero',\n",
    "                                      'Email', 'Tipo de usuário', 'Grau', 'Turma', 'Organização', 'Senha', \n",
    "                                      'Desativado', 'Motivo'])\n",
    "\n",
    "\n",
    "    carga['Primeiro Nome'] = rel.iloc[: , 0].apply(lambda x: x.split(' ')[0].capitalize())\n",
    "    carga['Sobrenome'] = rel.iloc[: , 0].apply(lambda x: x.split(' ')[-1].capitalize())\n",
    "    carga['Usuario'] = rel.iloc[: , 0].apply(lambda x: x.split(' ')[0].lower() + str(random.randint(1,99)))\n",
    "\n",
    "    carga['Data de Nascimento'] = rel.iloc[: , 1].apply(lambda x: x.replace('/', '-'))\n",
    "\n",
    "    carga['Tipo de usuário'] = 'Estudantes'\n",
    "    carga['Grau'] = rel.iloc[: , 4]\n",
    "    carga['Turma'] = rel.iloc[: , 3]\n",
    "\n",
    "    carga['Senha'] = 1\n",
    "    carga['Identificador'] = 0\n",
    "\n",
    "\n",
    "    carga.fillna('')\n",
    "\n",
    "    for i in range(len(carga)):\n",
    "        for j in range(len(banco)):\n",
    "             if carga['Primeiro Nome'][i] == banco['Nome'][j]:\n",
    "                    carga['Gênero'][i] = banco['Sexo'][j]\n",
    "\n",
    "geraCargaMassivaGenero()"
   ]
  },
  {
   "cell_type": "code",
   "execution_count": 49,
   "metadata": {},
   "outputs": [
    {
     "name": "stdout",
     "output_type": "stream",
     "text": [
      "Index(['Identificador', 'Primeiro Nome', 'Sobrenome', 'Usuario',\n",
      "       'Data de Nascimento', 'Gênero', 'Email', 'Tipo de usuário', 'Grau',\n",
      "       'Turma', 'Organização', 'Senha', 'Desativado', 'Motivo'],\n",
      "      dtype='object')\n",
      "None\n",
      "None\n",
      "None\n",
      "None\n",
      "None\n",
      "None\n"
     ]
    }
   ],
   "source": [
    "def dividirCarga():\n",
    "    try: \n",
    "        carga = pd.read_csv('cargaGerada.csv', encoding='utf-8')\n",
    "        \n",
    "    except IOError as e:\n",
    "        print(\"Erro ao ler o arquivo csv\")\n",
    "        return 0\n",
    "    \n",
    "    print(carga.columns)\n",
    "    \n",
    "    print(carga.loc[carga[carga.columns[8]] == 1].to_csv('1ano.csv', index=False))\n",
    "    print(carga.loc[carga[carga.columns[8]] == 2].to_csv('2ano.csv', index=False))\n",
    "    print(carga.loc[carga[carga.columns[8]] == 3].to_csv('3ano.csv', index=False))\n",
    "    print(carga.loc[carga[carga.columns[8]] == 4].to_csv('4ano.csv', index=False))\n",
    "    print(carga.loc[carga[carga.columns[8]] == 5].to_csv('5ano.csv', index=False))\n",
    "    \n",
    "    print(carga.loc[(carga[carga.columns[8]] != 1) & (carga[carga.columns[8]] != 2)\n",
    "                   & (carga[carga.columns[8]] != 3) & (carga[carga.columns[8]] != 4)\n",
    "                   & (carga[carga.columns[8]] != 5)].to_csv('Outros.csv', index=False))\n",
    "    \n",
    "dividirCarga()"
   ]
  },
  {
   "cell_type": "code",
   "execution_count": 51,
   "metadata": {},
   "outputs": [
    {
     "name": "stdout",
     "output_type": "stream",
     "text": [
      "0      SIM\n",
      "1      SIM\n",
      "2      NAN\n",
      "3      NAN\n",
      "4      NAN\n",
      "      ... \n",
      "335    NAN\n",
      "336    NAN\n",
      "337    NAN\n",
      "338    NAN\n",
      "339    NAN\n",
      "Name: Desativado, Length: 340, dtype: object\n",
      "Index(['Identificador', 'Primeiro Nome', 'Sobrenome', 'Usuario',\n",
      "       'Data de Nascimento', 'Gênero', 'Email', 'Tipo de usuário', 'Grau',\n",
      "       'Turma', 'Organização', 'Senha', 'Desativado', 'Motivo'],\n",
      "      dtype='object')\n",
      "{'alunosAtivos': 338, 'alunosDesativados': 2, 'usuariosDuplicados': 6, '1ano': 75, '2ano': 84, '3ano': 87, '4ano': 94, '5ano': 0, 'outrosAnos': 0}\n"
     ]
    }
   ],
   "source": [
    "def checkupCarga():\n",
    "    try: \n",
    "        carga = pd.read_csv('cargaGerada.csv', encoding='utf-8')\n",
    "        \n",
    "    except IOError as e:\n",
    "        print(\"Erro ao ler o arquivo csv\")\n",
    "        return 0\n",
    "    \n",
    "    report = {\n",
    "        'alunosAtivos': 0,\n",
    "        'alunosDesativados': 0,\n",
    "        'usuariosDuplicados': 0,\n",
    "        '1ano': 0,\n",
    "        '2ano': 0,\n",
    "        '3ano': 0,\n",
    "        '4ano': 0,\n",
    "        '5ano': 0,\n",
    "        'outrosAnos': 0\n",
    "    }\n",
    "    carga[carga.columns[12]] = carga[carga.columns[12]].astype(str) \n",
    "    carga[carga.columns[12]] = carga[carga.columns[12]].apply(lambda x: x.upper())\n",
    "    \n",
    "    print(carga[carga.columns[12]])\n",
    "    \n",
    "    print(carga.columns)\n",
    "    \n",
    "\n",
    "    \n",
    "    report['alunosAtivos'] = len(carga.loc[carga[carga.columns[12]] != 'SIM'])\n",
    "    report['alunosDesativados'] = len(carga.loc[carga[carga.columns[12]] == 'SIM'])\n",
    "    report['usuariosDuplicados'] = len(carga[carga[carga.columns[3]].duplicated(keep=False)])\n",
    "\n",
    "    report['1ano'] = len(carga.loc[carga[carga.columns[8]] == 1])\n",
    "    report['2ano'] = len(carga.loc[carga[carga.columns[8]] == 2])\n",
    "    report['3ano'] = len(carga.loc[carga[carga.columns[8]] == 3])\n",
    "    report['4ano'] = len(carga.loc[carga[carga.columns[8]] == 4])\n",
    "    report['5ano'] = len(carga.loc[carga[carga.columns[8]] == 5])\n",
    "    report['outrosAnos'] = len(carga.loc[(carga[carga.columns[8]] != 1) & (carga[carga.columns[8]] != 2)\n",
    "                   & (carga[carga.columns[8]] != 3) & (carga[carga.columns[8]] != 4)\n",
    "                   & (carga[carga.columns[8]] != 5)])\n",
    "    \n",
    "    print(report)\n",
    "        \n",
    "#     print(len(carga.loc[carga[carga.columns[8]] == 1]))\n",
    "#     print(len(carga.loc[carga[carga.columns[8]] == 2]))\n",
    "#     print(len(carga.loc[carga[carga.columns[8]] == 3]))\n",
    "#     print(len(carga.loc[carga[carga.columns[8]] == 4]))\n",
    "#     print(len(carga.loc[carga[carga.columns[8]] == 5]))\n",
    "    \n",
    "#     print(len(carga.loc[(carga[carga.columns[8]] != 1) & (carga[carga.columns[8]] != 2)\n",
    "#                    & (carga[carga.columns[8]] != 3) & (carga[carga.columns[8]] != 4)\n",
    "#                    & (carga[carga.columns[8]] != 5)]))\n",
    "checkupCarga()"
   ]
  },
  {
   "cell_type": "code",
   "execution_count": null,
   "metadata": {},
   "outputs": [],
   "source": [
    "def juntarCarga():\n",
    "    try: \n",
    "        carga = pd.read_csv('cargaGerada.csv', encoding='utf-8')\n",
    "        \n",
    "    except IOError as e:\n",
    "        print(\"Erro ao ler o arquivo csv\")\n",
    "        return 0\n",
    "    \n",
    "   \n",
    "    \n",
    "juntarCarga()"
   ]
  },
  {
   "cell_type": "code",
   "execution_count": 64,
   "metadata": {},
   "outputs": [],
   "source": [
    "carga.to_csv('cargaGerada.csv', index=False)"
   ]
  },
  {
   "cell_type": "code",
   "execution_count": null,
   "metadata": {},
   "outputs": [],
   "source": []
  }
 ],
 "metadata": {
  "kernelspec": {
   "display_name": "Python 3",
   "language": "python",
   "name": "python3"
  },
  "language_info": {
   "codemirror_mode": {
    "name": "ipython",
    "version": 3
   },
   "file_extension": ".py",
   "mimetype": "text/x-python",
   "name": "python",
   "nbconvert_exporter": "python",
   "pygments_lexer": "ipython3",
   "version": "3.8.5"
  }
 },
 "nbformat": 4,
 "nbformat_minor": 4
}
